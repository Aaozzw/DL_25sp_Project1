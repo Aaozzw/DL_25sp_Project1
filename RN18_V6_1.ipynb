{
 "cells": [
  {
   "cell_type": "markdown",
   "id": "63472cb5-0bc2-4639-b454-bf4f6820313e",
   "metadata": {},
   "source": [
    "# DeepLearning 25Spring Project_1"
   ]
  },
  {
   "cell_type": "markdown",
   "id": "b553e61f-97c9-42f6-94af-65878b012ae6",
   "metadata": {},
   "source": [
    "## Group member: Zhuoao Wang, Yutian Luo, Yuqi Wang."
   ]
  },
  {
   "cell_type": "markdown",
   "id": "0fd4e9b6-5ac6-4178-85cd-9863974bb080",
   "metadata": {},
   "source": [
    "## Based on ResNet18"
   ]
  },
  {
   "cell_type": "markdown",
   "id": "3d40d10d-6468-4149-a3ca-881fd93410eb",
   "metadata": {},
   "source": [
    "### 1. Improt packages & Manage parameters & Set random seed"
   ]
  },
  {
   "cell_type": "code",
   "execution_count": 9,
   "id": "1c43abb1-5330-4285-b257-8aa7103f91f8",
   "metadata": {},
   "outputs": [
    {
     "name": "stdout",
     "output_type": "stream",
     "text": [
      "Use: cuda\n"
     ]
    }
   ],
   "source": [
    "import os\n",
    "import random\n",
    "import pickle\n",
    "import numpy as np\n",
    "import pandas as pd\n",
    "\n",
    "import torch\n",
    "import torch.nn as nn\n",
    "import torch.optim as optim\n",
    "import torch.nn.functional as F\n",
    "import torchvision\n",
    "import torchvision.transforms as transforms\n",
    "import torch.optim.lr_scheduler as lr_scheduler\n",
    "from torch.utils.data import DataLoader\n",
    "from tqdm.notebook import tqdm  \n",
    "import matplotlib.pyplot as plt \n",
    "\n",
    "config = {\n",
    "    \"seed\": 42,\n",
    "    \"batch_size\": 64,\n",
    "    \"lr\": 0.002,\n",
    "    \"weight_decay\": 5e-4,\n",
    "    \"label_smoothing\": 0.1,\n",
    "    \"max_epochs\": 30,\n",
    "    \"dropout_p\": 0.3,\n",
    "    \"num_classes\": 10,\n",
    "    \"data_root\": \"./data\",\n",
    "    \"ckpt_path\": \"output/smaller_resnet_final.pth\",\n",
    "    \"pkl_file\": \"input/cifar_test_nolabel.pkl\",\n",
    "    \"submission_csv\": \"output/submission.csv\",\n",
    "    \"num_workers\": 2\n",
    "}\n",
    "\n",
    "def set_random_seed(seed=42):\n",
    "    random.seed(seed)\n",
    "    np.random.seed(seed)\n",
    "    torch.manual_seed(seed)\n",
    "    if torch.cuda.is_available():\n",
    "        torch.cuda.manual_seed_all(seed)\n",
    "\n",
    "set_random_seed(config[\"seed\"])\n",
    "device = torch.device(\"cuda\" if torch.cuda.is_available() else \"cpu\")\n",
    "print(\"Use:\", device)"
   ]
  },
  {
   "cell_type": "markdown",
   "id": "30f3d48c-a724-43fe-a11c-56068fd5e6f3",
   "metadata": {},
   "source": [
    "### 2. Set Squeeze and Excitation Block (Improve CNN)"
   ]
  },
  {
   "cell_type": "code",
   "execution_count": 10,
   "id": "26ecff8d-6f2e-4950-b321-32c4cbd66d5d",
   "metadata": {},
   "outputs": [],
   "source": [
    "class SEBlock(nn.Module):\n",
    "    def __init__(self, in_channels, reduction=16):\n",
    "        super(SEBlock, self).__init__()\n",
    "        self.global_avg_pool = nn.AdaptiveAvgPool2d(1)\n",
    "        self.fc = nn.Sequential(\n",
    "            nn.Linear(in_channels, in_channels // reduction),\n",
    "            nn.SiLU(),\n",
    "            nn.Linear(in_channels // reduction, in_channels),\n",
    "            nn.Sigmoid()\n",
    "        )\n",
    "\n",
    "    def forward(self, x):\n",
    "        batch, channels, _, _ = x.size()\n",
    "        y = self.global_avg_pool(x).view(batch, channels)\n",
    "        y = self.fc(y).view(batch, channels, 1, 1)\n",
    "        return x * y.expand_as(x)"
   ]
  },
  {
   "cell_type": "markdown",
   "id": "3c271d7f-09b3-4249-89ce-c06f1e62e265",
   "metadata": {},
   "source": [
    "### 3. Improve ResBlock (Two convolutions, using SiLU as the activation function, GroupNorm.)"
   ]
  },
  {
   "cell_type": "code",
   "execution_count": 11,
   "id": "c37461f5-7c4a-4ff2-bc99-d3906d2bfb60",
   "metadata": {},
   "outputs": [],
   "source": [
    "class ImprovedResBlock(nn.Module):\n",
    "    def __init__(self, in_channels, out_channels, stride=1, use_se=True):\n",
    "        super(ImprovedResBlock, self).__init__()\n",
    "        self.conv1 = nn.Conv2d(in_channels, out_channels, kernel_size=3, stride=stride,\n",
    "                               padding=1, bias=False)\n",
    "        self.bn1   = nn.GroupNorm(8, out_channels)\n",
    "        self.conv2 = nn.Conv2d(out_channels, out_channels, kernel_size=3, stride=1,\n",
    "                               padding=1, bias=False)\n",
    "        self.bn2   = nn.GroupNorm(8, out_channels)\n",
    "        self.silu  = nn.SiLU()\n",
    "        self.se    = SEBlock(out_channels) if use_se else nn.Identity()\n",
    "\n",
    "        self.shortcut = nn.Sequential()\n",
    "        if stride != 1 or in_channels != out_channels:\n",
    "            self.shortcut = nn.Sequential(\n",
    "                nn.Conv2d(in_channels, out_channels, kernel_size=1, stride=stride,\n",
    "                          bias=False),\n",
    "                nn.GroupNorm(8, out_channels)\n",
    "            )\n",
    "\n",
    "    def forward(self, x):\n",
    "        identity = self.shortcut(x)\n",
    "        out = self.silu(self.bn1(self.conv1(x)))\n",
    "        out = self.bn2(self.conv2(out))\n",
    "        out = self.se(out)\n",
    "        out += identity\n",
    "        return self.silu(out)"
   ]
  },
  {
   "cell_type": "markdown",
   "id": "75a773df-e8ff-4237-9dd4-b31a3df2470b",
   "metadata": {},
   "source": [
    "### 4. Building the ResNet (Simplified Version: 4 stages)"
   ]
  },
  {
   "cell_type": "code",
   "execution_count": 12,
   "id": "2ca38321-c7f2-4ea1-af68-84c8f55d2a8b",
   "metadata": {},
   "outputs": [],
   "source": [
    "class SmallerResNet(nn.Module):\n",
    "    def __init__(self, num_classes=10, dropout_p=0.3):\n",
    "        super(SmallerResNet, self).__init__()\n",
    "        self.conv1 = nn.Conv2d(3, 32, kernel_size=3, stride=1, padding=1, bias=False)\n",
    "        self.bn1   = nn.GroupNorm(8, 32)\n",
    "        self.silu  = nn.SiLU()\n",
    "\n",
    "        self.layer1 = self._make_layer(ImprovedResBlock, 32, 32, 2, stride=1)\n",
    "        self.layer2 = self._make_layer(ImprovedResBlock, 32, 64, 2, stride=2)\n",
    "        self.layer3 = self._make_layer(ImprovedResBlock, 64, 128, 2, stride=2)\n",
    "        self.layer4 = self._make_layer(ImprovedResBlock, 128, 256, 2, stride=2)\n",
    "\n",
    "        self.gap = nn.AdaptiveAvgPool2d((1, 1))\n",
    "        self.dropout = nn.Dropout(p=dropout_p)\n",
    "        self.fc = nn.Linear(256, num_classes)\n",
    "\n",
    "    def _make_layer(self, block, in_channels, out_channels, blocks, stride):\n",
    "        layers = []\n",
    "        layers.append(block(in_channels, out_channels, stride=stride))\n",
    "        for _ in range(1, blocks):\n",
    "            layers.append(block(out_channels, out_channels))\n",
    "        return nn.Sequential(*layers)\n",
    "\n",
    "    def forward(self, x):\n",
    "        x = self.silu(self.bn1(self.conv1(x)))\n",
    "        x = self.layer1(x)\n",
    "        x = self.layer2(x)\n",
    "        x = self.layer3(x)\n",
    "        x = self.layer4(x)\n",
    "        x = self.gap(x)\n",
    "        x = torch.flatten(x, 1)\n",
    "        x = self.dropout(x)\n",
    "        return self.fc(x)"
   ]
  },
  {
   "cell_type": "markdown",
   "id": "5c98b090-b087-49d0-b1d4-b471b75fbc3d",
   "metadata": {},
   "source": [
    "### 5. Load Data & Data Aug"
   ]
  },
  {
   "cell_type": "code",
   "execution_count": 13,
   "id": "d93e9e35-34af-4976-a359-79758a6b35f0",
   "metadata": {},
   "outputs": [],
   "source": [
    "def get_dataloaders(config):\n",
    "    train_transform = transforms.Compose([\n",
    "        transforms.RandomHorizontalFlip(),\n",
    "        transforms.AutoAugment(transforms.AutoAugmentPolicy.CIFAR10),\n",
    "        transforms.ToTensor(),\n",
    "        transforms.Normalize((0.5,), (0.5,))\n",
    "    ])\n",
    "\n",
    "    test_transform = transforms.Compose([\n",
    "        transforms.ToTensor(),\n",
    "        transforms.Normalize((0.5,), (0.5,))\n",
    "    ])\n",
    "\n",
    "    trainset = torchvision.datasets.CIFAR10(\n",
    "        root=config[\"data_root\"],\n",
    "        train=True,\n",
    "        download=True,\n",
    "        transform=train_transform\n",
    "    )\n",
    "    trainloader = DataLoader(trainset,\n",
    "                             batch_size=config[\"batch_size\"],\n",
    "                             shuffle=True,\n",
    "                             num_workers=config[\"num_workers\"])\n",
    "\n",
    "    testset = torchvision.datasets.CIFAR10(\n",
    "        root=config[\"data_root\"],\n",
    "        train=False,\n",
    "        download=True,\n",
    "        transform=test_transform\n",
    "    )\n",
    "    testloader = DataLoader(testset,\n",
    "                            batch_size=config[\"batch_size\"],\n",
    "                            shuffle=False,\n",
    "                            num_workers=config[\"num_workers\"])\n",
    "\n",
    "    return trainloader, testloader"
   ]
  },
  {
   "cell_type": "markdown",
   "id": "048d8556-b24f-4444-95c8-2985d287b53e",
   "metadata": {},
   "source": [
    "### 6. Train"
   ]
  },
  {
   "cell_type": "code",
   "execution_count": 14,
   "id": "470f2c12-3a4d-411b-b3d4-94ba324ac0d2",
   "metadata": {},
   "outputs": [],
   "source": [
    "def train_one_epoch(model, dataloader, optimizer, criterion, device, epoch_idx, max_epochs):\n",
    "    model.train()\n",
    "    running_loss = 0.0\n",
    "    correct = 0\n",
    "    total = 0\n",
    "\n",
    "    pbar = tqdm(dataloader, desc=f\"Epoch {epoch_idx}/{max_epochs}\", leave=False)\n",
    "    for images, labels in pbar:\n",
    "        images, labels = images.to(device), labels.to(device)\n",
    "\n",
    "        optimizer.zero_grad()\n",
    "        outputs = model(images)\n",
    "        loss = criterion(outputs, labels)\n",
    "        loss.backward()\n",
    "        optimizer.step()\n",
    "\n",
    "        running_loss += loss.item() * images.size(0)\n",
    "        _, preds = torch.max(outputs, 1)\n",
    "        correct += (preds == labels).sum().item()\n",
    "        total += labels.size(0)\n",
    "\n",
    "        current_loss = running_loss / total\n",
    "        current_acc  = correct / total\n",
    "        pbar.set_postfix({\n",
    "            \"loss\": f\"{current_loss:.4f}\",\n",
    "            \"acc\":  f\"{current_acc:.4f}\"\n",
    "        })\n",
    "\n",
    "    epoch_loss = running_loss / total\n",
    "    epoch_acc  = correct / total\n",
    "    return epoch_loss, epoch_acc\n",
    "\n",
    "\n",
    "def evaluate_on_testset(model, dataloader, device):\n",
    "    model.eval()\n",
    "    correct = 0\n",
    "    total = 0\n",
    "\n",
    "    with torch.no_grad():\n",
    "        for images, labels in dataloader:\n",
    "            images, labels = images.to(device), labels.to(device)\n",
    "            outputs = model(images)\n",
    "            _, preds = torch.max(outputs, 1)\n",
    "            correct += (preds == labels).sum().item()\n",
    "            total += labels.size(0)\n",
    "    return correct / total\n",
    "\n",
    "\n",
    "def train_model(model, trainloader, testloader, config, device):\n",
    "    criterion = nn.CrossEntropyLoss(label_smoothing=config[\"label_smoothing\"])\n",
    "    optimizer = optim.AdamW(\n",
    "        model.parameters(),\n",
    "        lr=config[\"lr\"],\n",
    "        weight_decay=config[\"weight_decay\"]\n",
    "    )\n",
    "    scheduler = lr_scheduler.CosineAnnealingLR(\n",
    "        optimizer, \n",
    "        T_max=config[\"max_epochs\"]\n",
    "    )\n",
    "\n",
    "    train_losses = []\n",
    "    train_accs   = []\n",
    "    test_accs    = []\n",
    "\n",
    "    for epoch in range(config[\"max_epochs\"]):\n",
    "        train_loss, train_acc = train_one_epoch(\n",
    "            model=model,\n",
    "            dataloader=trainloader,\n",
    "            optimizer=optimizer,\n",
    "            criterion=criterion,\n",
    "            device=device,\n",
    "            epoch_idx=epoch + 1,\n",
    "            max_epochs=config[\"max_epochs\"]\n",
    "        )\n",
    "\n",
    "        scheduler.step()\n",
    "        test_acc = evaluate_on_testset(model, testloader, device)\n",
    "        train_losses.append(train_loss)\n",
    "        train_accs.append(train_acc)\n",
    "        test_accs.append(test_acc)\n",
    "\n",
    "        print(f\"[Epoch {epoch+1}/{config['max_epochs']}] \"\n",
    "              f\"Train Loss: {train_loss:.4f}, \"\n",
    "              f\"Train Acc: {train_acc:.4f}, \"\n",
    "              f\"Test Acc: {test_acc:.4f}\")\n",
    "\n",
    "    torch.save(model.state_dict(), config[\"ckpt_path\"])\n",
    "    print(f\"Training finished. Model saved as {config['ckpt_path']}\")\n",
    "\n",
    "    plt.figure()\n",
    "    plt.title(\"Training Loss\")\n",
    "    plt.plot(train_losses, label=\"Train Loss\")\n",
    "    plt.xlabel(\"Epoch\")\n",
    "    plt.ylabel(\"Loss\")\n",
    "    plt.legend()\n",
    "    plt.savefig(\"output/Train loss.png\")\n",
    "    plt.show()\n",
    "\n",
    "    plt.figure()\n",
    "    plt.title(\"Accuracy\")\n",
    "    plt.plot(train_accs, label=\"Train Acc\")\n",
    "    plt.plot(test_accs, label=\"Test Acc\")\n",
    "    plt.xlabel(\"Epoch\")\n",
    "    plt.ylabel(\"Accuracy\")\n",
    "    plt.legend()\n",
    "    plt.savefig(\"output/Acc.png\")\n",
    "    plt.show()"
   ]
  },
  {
   "cell_type": "markdown",
   "id": "4e2bffaa-a882-454e-9662-69bc0d66f17e",
   "metadata": {},
   "source": [
    "### 7. Predict from .pkl"
   ]
  },
  {
   "cell_type": "code",
   "execution_count": 15,
   "id": "2a9dbc8d-3508-491c-9694-d0f8fd706357",
   "metadata": {},
   "outputs": [],
   "source": [
    "def predict_from_pkl(model, pkl_file, device, out_csv=\"submission.csv\", batch_size=64):\n",
    "    with open(pkl_file, \"rb\") as f:\n",
    "        data_dict = pickle.load(f)\n",
    "    \n",
    "    image_data = data_dict[b'data'] \n",
    "    image_ids  = data_dict[b'ids']\n",
    "\n",
    "    if isinstance(image_data, np.ndarray):\n",
    "        image_data = torch.tensor(image_data).float()\n",
    "    if image_data.max() > 1:\n",
    "        image_data = image_data / 255.0\n",
    "    if image_data.shape[-1] == 3:\n",
    "        image_data = image_data.permute(0, 3, 1, 2)\n",
    "\n",
    "    image_data = (image_data - 0.5) / 0.5\n",
    "\n",
    "    model.eval()\n",
    "    predictions_list = []\n",
    "    with torch.no_grad():\n",
    "        for i in range(0, image_data.size(0), batch_size):\n",
    "            batch = image_data[i : i + batch_size].to(device)\n",
    "            outputs = model(batch)\n",
    "            _, preds = torch.max(outputs, 1)\n",
    "            predictions_list.append(preds.cpu())\n",
    "\n",
    "    predictions_all = torch.cat(predictions_list, dim=0)\n",
    "    df = pd.DataFrame({\"ID\": image_ids, \"Label\": predictions_all.tolist()})\n",
    "    df.to_csv(out_csv, index=False)\n",
    "    print(f\"Prediction finished! Output -> {out_csv}\")\n",
    "    \n",
    "def load_model_and_predict_pkl(config):\n",
    "    model_best = SmallerResNet(num_classes=config[\"num_classes\"], dropout_p=config[\"dropout_p\"]).to(device)\n",
    "    if os.path.exists(config[\"ckpt_path\"]):\n",
    "        state_dict = torch.load(config[\"ckpt_path\"], map_location=device, weights_only=True)\n",
    "        model_best.load_state_dict(state_dict)\n",
    "        print(\"Model weights loaded. Start inference...\")\n",
    "        predict_from_pkl(\n",
    "            model_best,\n",
    "            pkl_file=config[\"pkl_file\"],\n",
    "            device=device,\n",
    "            out_csv=config[\"submission_csv\"],\n",
    "            batch_size=config[\"batch_size\"]\n",
    "        )\n",
    "    else:\n",
    "        print(f\"Not found: {config['ckpt_path']}. Please train the model first.\")"
   ]
  },
  {
   "cell_type": "markdown",
   "id": "aaf81e51-fa28-45de-b7d4-d284e742ea65",
   "metadata": {},
   "source": [
    "### 8. Main()"
   ]
  },
  {
   "cell_type": "code",
   "execution_count": 16,
   "id": "2e8429e0-c2d9-4c6f-877d-ffb29c2792d4",
   "metadata": {},
   "outputs": [
    {
     "name": "stdout",
     "output_type": "stream",
     "text": [
      "Files already downloaded and verified\n",
      "Files already downloaded and verified\n",
      "Model created.\n",
      "Total parameters: 2820390 (~2.82M)\n"
     ]
    },
    {
     "data": {
      "application/vnd.jupyter.widget-view+json": {
       "model_id": "",
       "version_major": 2,
       "version_minor": 0
      },
      "text/plain": [
       "Epoch 1/30:   0%|          | 0/782 [00:00<?, ?it/s]"
      ]
     },
     "metadata": {},
     "output_type": "display_data"
    },
    {
     "name": "stdout",
     "output_type": "stream",
     "text": [
      "[Epoch 1/30] Train Loss: 2.0013, Train Acc: 0.2905, Test Acc: 0.4554\n"
     ]
    },
    {
     "data": {
      "application/vnd.jupyter.widget-view+json": {
       "model_id": "",
       "version_major": 2,
       "version_minor": 0
      },
      "text/plain": [
       "Epoch 2/30:   0%|          | 0/782 [00:00<?, ?it/s]"
      ]
     },
     "metadata": {},
     "output_type": "display_data"
    },
    {
     "name": "stdout",
     "output_type": "stream",
     "text": [
      "[Epoch 2/30] Train Loss: 1.6187, Train Acc: 0.4845, Test Acc: 0.6243\n"
     ]
    },
    {
     "data": {
      "application/vnd.jupyter.widget-view+json": {
       "model_id": "",
       "version_major": 2,
       "version_minor": 0
      },
      "text/plain": [
       "Epoch 3/30:   0%|          | 0/782 [00:00<?, ?it/s]"
      ]
     },
     "metadata": {},
     "output_type": "display_data"
    },
    {
     "name": "stdout",
     "output_type": "stream",
     "text": [
      "[Epoch 3/30] Train Loss: 1.3743, Train Acc: 0.6057, Test Acc: 0.7257\n"
     ]
    },
    {
     "data": {
      "application/vnd.jupyter.widget-view+json": {
       "model_id": "",
       "version_major": 2,
       "version_minor": 0
      },
      "text/plain": [
       "Epoch 4/30:   0%|          | 0/782 [00:00<?, ?it/s]"
      ]
     },
     "metadata": {},
     "output_type": "display_data"
    },
    {
     "name": "stdout",
     "output_type": "stream",
     "text": [
      "[Epoch 4/30] Train Loss: 1.2192, Train Acc: 0.6807, Test Acc: 0.7626\n"
     ]
    },
    {
     "data": {
      "application/vnd.jupyter.widget-view+json": {
       "model_id": "",
       "version_major": 2,
       "version_minor": 0
      },
      "text/plain": [
       "Epoch 5/30:   0%|          | 0/782 [00:00<?, ?it/s]"
      ]
     },
     "metadata": {},
     "output_type": "display_data"
    },
    {
     "name": "stdout",
     "output_type": "stream",
     "text": [
      "[Epoch 5/30] Train Loss: 1.1270, Train Acc: 0.7236, Test Acc: 0.7833\n"
     ]
    },
    {
     "data": {
      "application/vnd.jupyter.widget-view+json": {
       "model_id": "",
       "version_major": 2,
       "version_minor": 0
      },
      "text/plain": [
       "Epoch 6/30:   0%|          | 0/782 [00:00<?, ?it/s]"
      ]
     },
     "metadata": {},
     "output_type": "display_data"
    },
    {
     "name": "stdout",
     "output_type": "stream",
     "text": [
      "[Epoch 6/30] Train Loss: 1.0646, Train Acc: 0.7536, Test Acc: 0.7970\n"
     ]
    },
    {
     "data": {
      "application/vnd.jupyter.widget-view+json": {
       "model_id": "",
       "version_major": 2,
       "version_minor": 0
      },
      "text/plain": [
       "Epoch 7/30:   0%|          | 0/782 [00:00<?, ?it/s]"
      ]
     },
     "metadata": {},
     "output_type": "display_data"
    },
    {
     "name": "stdout",
     "output_type": "stream",
     "text": [
      "[Epoch 7/30] Train Loss: 1.0074, Train Acc: 0.7792, Test Acc: 0.8127\n"
     ]
    },
    {
     "data": {
      "application/vnd.jupyter.widget-view+json": {
       "model_id": "",
       "version_major": 2,
       "version_minor": 0
      },
      "text/plain": [
       "Epoch 8/30:   0%|          | 0/782 [00:00<?, ?it/s]"
      ]
     },
     "metadata": {},
     "output_type": "display_data"
    },
    {
     "name": "stdout",
     "output_type": "stream",
     "text": [
      "[Epoch 8/30] Train Loss: 0.9705, Train Acc: 0.7959, Test Acc: 0.8280\n"
     ]
    },
    {
     "data": {
      "application/vnd.jupyter.widget-view+json": {
       "model_id": "",
       "version_major": 2,
       "version_minor": 0
      },
      "text/plain": [
       "Epoch 9/30:   0%|          | 0/782 [00:00<?, ?it/s]"
      ]
     },
     "metadata": {},
     "output_type": "display_data"
    },
    {
     "name": "stdout",
     "output_type": "stream",
     "text": [
      "[Epoch 9/30] Train Loss: 0.9356, Train Acc: 0.8120, Test Acc: 0.8334\n"
     ]
    },
    {
     "data": {
      "application/vnd.jupyter.widget-view+json": {
       "model_id": "",
       "version_major": 2,
       "version_minor": 0
      },
      "text/plain": [
       "Epoch 10/30:   0%|          | 0/782 [00:00<?, ?it/s]"
      ]
     },
     "metadata": {},
     "output_type": "display_data"
    },
    {
     "name": "stdout",
     "output_type": "stream",
     "text": [
      "[Epoch 10/30] Train Loss: 0.9034, Train Acc: 0.8284, Test Acc: 0.8410\n"
     ]
    },
    {
     "data": {
      "application/vnd.jupyter.widget-view+json": {
       "model_id": "",
       "version_major": 2,
       "version_minor": 0
      },
      "text/plain": [
       "Epoch 11/30:   0%|          | 0/782 [00:00<?, ?it/s]"
      ]
     },
     "metadata": {},
     "output_type": "display_data"
    },
    {
     "name": "stdout",
     "output_type": "stream",
     "text": [
      "[Epoch 11/30] Train Loss: 0.8767, Train Acc: 0.8395, Test Acc: 0.8511\n"
     ]
    },
    {
     "data": {
      "application/vnd.jupyter.widget-view+json": {
       "model_id": "",
       "version_major": 2,
       "version_minor": 0
      },
      "text/plain": [
       "Epoch 12/30:   0%|          | 0/782 [00:00<?, ?it/s]"
      ]
     },
     "metadata": {},
     "output_type": "display_data"
    },
    {
     "name": "stdout",
     "output_type": "stream",
     "text": [
      "[Epoch 12/30] Train Loss: 0.8479, Train Acc: 0.8519, Test Acc: 0.8464\n"
     ]
    },
    {
     "data": {
      "application/vnd.jupyter.widget-view+json": {
       "model_id": "",
       "version_major": 2,
       "version_minor": 0
      },
      "text/plain": [
       "Epoch 13/30:   0%|          | 0/782 [00:00<?, ?it/s]"
      ]
     },
     "metadata": {},
     "output_type": "display_data"
    },
    {
     "name": "stdout",
     "output_type": "stream",
     "text": [
      "[Epoch 13/30] Train Loss: 0.8259, Train Acc: 0.8622, Test Acc: 0.8512\n"
     ]
    },
    {
     "data": {
      "application/vnd.jupyter.widget-view+json": {
       "model_id": "",
       "version_major": 2,
       "version_minor": 0
      },
      "text/plain": [
       "Epoch 14/30:   0%|          | 0/782 [00:00<?, ?it/s]"
      ]
     },
     "metadata": {},
     "output_type": "display_data"
    },
    {
     "name": "stdout",
     "output_type": "stream",
     "text": [
      "[Epoch 14/30] Train Loss: 0.8054, Train Acc: 0.8705, Test Acc: 0.8586\n"
     ]
    },
    {
     "data": {
      "application/vnd.jupyter.widget-view+json": {
       "model_id": "",
       "version_major": 2,
       "version_minor": 0
      },
      "text/plain": [
       "Epoch 15/30:   0%|          | 0/782 [00:00<?, ?it/s]"
      ]
     },
     "metadata": {},
     "output_type": "display_data"
    },
    {
     "name": "stdout",
     "output_type": "stream",
     "text": [
      "[Epoch 15/30] Train Loss: 0.7805, Train Acc: 0.8806, Test Acc: 0.8603\n"
     ]
    },
    {
     "data": {
      "application/vnd.jupyter.widget-view+json": {
       "model_id": "",
       "version_major": 2,
       "version_minor": 0
      },
      "text/plain": [
       "Epoch 16/30:   0%|          | 0/782 [00:00<?, ?it/s]"
      ]
     },
     "metadata": {},
     "output_type": "display_data"
    },
    {
     "name": "stdout",
     "output_type": "stream",
     "text": [
      "[Epoch 16/30] Train Loss: 0.7624, Train Acc: 0.8914, Test Acc: 0.8640\n"
     ]
    },
    {
     "data": {
      "application/vnd.jupyter.widget-view+json": {
       "model_id": "",
       "version_major": 2,
       "version_minor": 0
      },
      "text/plain": [
       "Epoch 17/30:   0%|          | 0/782 [00:00<?, ?it/s]"
      ]
     },
     "metadata": {},
     "output_type": "display_data"
    },
    {
     "name": "stdout",
     "output_type": "stream",
     "text": [
      "[Epoch 17/30] Train Loss: 0.7470, Train Acc: 0.8977, Test Acc: 0.8673\n"
     ]
    },
    {
     "data": {
      "application/vnd.jupyter.widget-view+json": {
       "model_id": "",
       "version_major": 2,
       "version_minor": 0
      },
      "text/plain": [
       "Epoch 18/30:   0%|          | 0/782 [00:00<?, ?it/s]"
      ]
     },
     "metadata": {},
     "output_type": "display_data"
    },
    {
     "name": "stdout",
     "output_type": "stream",
     "text": [
      "[Epoch 18/30] Train Loss: 0.7344, Train Acc: 0.9040, Test Acc: 0.8696\n"
     ]
    },
    {
     "data": {
      "application/vnd.jupyter.widget-view+json": {
       "model_id": "",
       "version_major": 2,
       "version_minor": 0
      },
      "text/plain": [
       "Epoch 19/30:   0%|          | 0/782 [00:00<?, ?it/s]"
      ]
     },
     "metadata": {},
     "output_type": "display_data"
    },
    {
     "name": "stdout",
     "output_type": "stream",
     "text": [
      "[Epoch 19/30] Train Loss: 0.7229, Train Acc: 0.9088, Test Acc: 0.8710\n"
     ]
    },
    {
     "data": {
      "application/vnd.jupyter.widget-view+json": {
       "model_id": "",
       "version_major": 2,
       "version_minor": 0
      },
      "text/plain": [
       "Epoch 20/30:   0%|          | 0/782 [00:00<?, ?it/s]"
      ]
     },
     "metadata": {},
     "output_type": "display_data"
    },
    {
     "name": "stdout",
     "output_type": "stream",
     "text": [
      "[Epoch 20/30] Train Loss: 0.7077, Train Acc: 0.9144, Test Acc: 0.8771\n"
     ]
    },
    {
     "data": {
      "application/vnd.jupyter.widget-view+json": {
       "model_id": "",
       "version_major": 2,
       "version_minor": 0
      },
      "text/plain": [
       "Epoch 21/30:   0%|          | 0/782 [00:00<?, ?it/s]"
      ]
     },
     "metadata": {},
     "output_type": "display_data"
    },
    {
     "name": "stdout",
     "output_type": "stream",
     "text": [
      "[Epoch 21/30] Train Loss: 0.6939, Train Acc: 0.9212, Test Acc: 0.8775\n"
     ]
    },
    {
     "data": {
      "application/vnd.jupyter.widget-view+json": {
       "model_id": "",
       "version_major": 2,
       "version_minor": 0
      },
      "text/plain": [
       "Epoch 22/30:   0%|          | 0/782 [00:00<?, ?it/s]"
      ]
     },
     "metadata": {},
     "output_type": "display_data"
    },
    {
     "name": "stdout",
     "output_type": "stream",
     "text": [
      "[Epoch 22/30] Train Loss: 0.6860, Train Acc: 0.9239, Test Acc: 0.8789\n"
     ]
    },
    {
     "data": {
      "application/vnd.jupyter.widget-view+json": {
       "model_id": "",
       "version_major": 2,
       "version_minor": 0
      },
      "text/plain": [
       "Epoch 23/30:   0%|          | 0/782 [00:00<?, ?it/s]"
      ]
     },
     "metadata": {},
     "output_type": "display_data"
    },
    {
     "name": "stdout",
     "output_type": "stream",
     "text": [
      "[Epoch 23/30] Train Loss: 0.6810, Train Acc: 0.9254, Test Acc: 0.8791\n"
     ]
    },
    {
     "data": {
      "application/vnd.jupyter.widget-view+json": {
       "model_id": "",
       "version_major": 2,
       "version_minor": 0
      },
      "text/plain": [
       "Epoch 24/30:   0%|          | 0/782 [00:00<?, ?it/s]"
      ]
     },
     "metadata": {},
     "output_type": "display_data"
    },
    {
     "name": "stdout",
     "output_type": "stream",
     "text": [
      "[Epoch 24/30] Train Loss: 0.6714, Train Acc: 0.9314, Test Acc: 0.8795\n"
     ]
    },
    {
     "data": {
      "application/vnd.jupyter.widget-view+json": {
       "model_id": "",
       "version_major": 2,
       "version_minor": 0
      },
      "text/plain": [
       "Epoch 25/30:   0%|          | 0/782 [00:00<?, ?it/s]"
      ]
     },
     "metadata": {},
     "output_type": "display_data"
    },
    {
     "name": "stdout",
     "output_type": "stream",
     "text": [
      "[Epoch 25/30] Train Loss: 0.6634, Train Acc: 0.9335, Test Acc: 0.8851\n"
     ]
    },
    {
     "data": {
      "application/vnd.jupyter.widget-view+json": {
       "model_id": "",
       "version_major": 2,
       "version_minor": 0
      },
      "text/plain": [
       "Epoch 26/30:   0%|          | 0/782 [00:00<?, ?it/s]"
      ]
     },
     "metadata": {},
     "output_type": "display_data"
    },
    {
     "name": "stdout",
     "output_type": "stream",
     "text": [
      "[Epoch 26/30] Train Loss: 0.6548, Train Acc: 0.9384, Test Acc: 0.8833\n"
     ]
    },
    {
     "data": {
      "application/vnd.jupyter.widget-view+json": {
       "model_id": "",
       "version_major": 2,
       "version_minor": 0
      },
      "text/plain": [
       "Epoch 27/30:   0%|          | 0/782 [00:00<?, ?it/s]"
      ]
     },
     "metadata": {},
     "output_type": "display_data"
    },
    {
     "name": "stdout",
     "output_type": "stream",
     "text": [
      "[Epoch 27/30] Train Loss: 0.6534, Train Acc: 0.9392, Test Acc: 0.8829\n"
     ]
    },
    {
     "data": {
      "application/vnd.jupyter.widget-view+json": {
       "model_id": "",
       "version_major": 2,
       "version_minor": 0
      },
      "text/plain": [
       "Epoch 28/30:   0%|          | 0/782 [00:00<?, ?it/s]"
      ]
     },
     "metadata": {},
     "output_type": "display_data"
    },
    {
     "name": "stdout",
     "output_type": "stream",
     "text": [
      "[Epoch 28/30] Train Loss: 0.6506, Train Acc: 0.9405, Test Acc: 0.8839\n"
     ]
    },
    {
     "data": {
      "application/vnd.jupyter.widget-view+json": {
       "model_id": "",
       "version_major": 2,
       "version_minor": 0
      },
      "text/plain": [
       "Epoch 29/30:   0%|          | 0/782 [00:00<?, ?it/s]"
      ]
     },
     "metadata": {},
     "output_type": "display_data"
    },
    {
     "name": "stdout",
     "output_type": "stream",
     "text": [
      "[Epoch 29/30] Train Loss: 0.6483, Train Acc: 0.9412, Test Acc: 0.8836\n"
     ]
    },
    {
     "data": {
      "application/vnd.jupyter.widget-view+json": {
       "model_id": "",
       "version_major": 2,
       "version_minor": 0
      },
      "text/plain": [
       "Epoch 30/30:   0%|          | 0/782 [00:00<?, ?it/s]"
      ]
     },
     "metadata": {},
     "output_type": "display_data"
    },
    {
     "name": "stdout",
     "output_type": "stream",
     "text": [
      "[Epoch 30/30] Train Loss: 0.6513, Train Acc: 0.9399, Test Acc: 0.8833\n",
      "Training finished. Model saved as output/smaller_resnet_final.pth\n"
     ]
    },
    {
     "data": {
      "image/png": "[encoded data removed]",
      "text/plain": [
       "<Figure size 640x480 with 1 Axes>"
      ]
     },
     "metadata": {},
     "output_type": "display_data"
    },
    {
     "data": {
      "image/png": "[encoded data removed]",
      "text/plain": [
       "<Figure size 640x480 with 1 Axes>"
      ]
     },
     "metadata": {},
     "output_type": "display_data"
    },
    {
     "name": "stdout",
     "output_type": "stream",
     "text": [
      "Model weights loaded. Start inference...\n",
      "Prediction finished! Output -> output/submission.csv\n"
     ]
    }
   ],
   "source": [
    "if __name__ == \"__main__\":\n",
    "    trainloader, testloader = get_dataloaders(config)\n",
    "\n",
    "    os.makedirs(\"output\", exist_ok=True)\n",
    "    model = SmallerResNet(num_classes=config[\"num_classes\"], dropout_p=config[\"dropout_p\"]).to(device)\n",
    "\n",
    "    print(\"Model created.\")\n",
    "    param_count = sum(p.numel() for p in model.parameters())\n",
    "    print(f\"Total parameters: {param_count} (~{param_count/1e6:.2f}M)\")\n",
    "\n",
    "    train_model(model, trainloader, testloader, config, device)\n",
    "\n",
    "    load_model_and_predict_pkl(config)"
   ]
  },
  {
   "cell_type": "code",
   "execution_count": null,
   "id": "d1b274d3-ac5c-450d-a041-067874321886",
   "metadata": {},
   "outputs": [],
   "source": []
  }
 ],
 "metadata": {
  "kernelspec": {
   "display_name": "Python 3 (ipykernel)",
   "language": "python",
   "name": "python3"
  },
  "language_info": {
   "codemirror_mode": {
    "name": "ipython",
    "version": 3
   },
   "file_extension": ".py",
   "mimetype": "text/x-python",
   "name": "python",
   "nbconvert_exporter": "python",
   "pygments_lexer": "ipython3",
   "version": "3.8.18"
  }
 },
 "nbformat": 4,
 "nbformat_minor": 5
}
